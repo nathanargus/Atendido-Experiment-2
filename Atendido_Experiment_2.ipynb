{
 "cells": [
  {
   "cell_type": "markdown",
   "id": "6fd15ed7-42bb-4eee-9994-4c5e54d09fd7",
   "metadata": {},
   "source": [
    "## 1. Normalization Problem"
   ]
  },
  {
   "cell_type": "markdown",
   "id": "8373352b-372f-4285-8cbf-6ee780a28fb2",
   "metadata": {},
   "source": [
    "##### This problem involves normalizing a 5x5 array of random numbers using basic data preprocessing techniques. Specifically, it requires centering the data by subtracting the mean and scaling it by dividing by the standard deviation, following the normalization formula $𝑍 = (𝑋 - mean)/σ$. The goal is to generate a random 5x5 array, compute its mean and standard deviation, apply the normalization process to adjust the data, and then save the resulting normalized array to a file named X_normalized.npy."
   ]
  },
  {
   "cell_type": "code",
   "execution_count": 47,
   "id": "707a4558-85f6-4565-ae78-d1dcf8e356ea",
   "metadata": {},
   "outputs": [
    {
     "name": "stdout",
     "output_type": "stream",
     "text": [
      "Mean: 0.5684458838241885\n",
      "Standard Deviation: 0.24213348787161743\n",
      "\n",
      "Original Array:\n",
      " [[0.82288675 0.78730454 0.76606343 0.76119345 0.84273583]\n",
      " [0.60092527 0.63461518 0.65792548 0.89517299 0.48645884]\n",
      " [0.31000718 0.43290893 0.68738069 0.47501767 0.37872007]\n",
      " [0.1649172  0.99545554 0.13589116 0.56520546 0.59609312]\n",
      " [0.46283103 0.80067697 0.11530669 0.21550267 0.61995098]]\n",
      "\n",
      "Normalized Array:\n",
      " [[ 1.05082889  0.90387603  0.81615124  0.79603843  1.13280467]\n",
      " [ 0.13413834  0.27327609  0.36954655  1.34936769 -0.33860268]\n",
      " [-1.0673398  -0.55976127  0.4911952  -0.38585417 -0.78355875]\n",
      " [-1.66655463  1.76352994 -1.7864308  -0.01338281  0.11418179]\n",
      " [-0.4361844   0.95910353 -1.87144373 -1.45763901  0.21271366]]\n"
     ]
    }
   ],
   "source": [
    "import numpy as np\n",
    "\n",
    "# Generate a random 5x5 ndarray\n",
    "X = np.random.rand(5, 5)\n",
    "\n",
    "# Calculate the mean and standard deviation\n",
    "mean_X = X.mean()\n",
    "std_X = X.std()\n",
    "\n",
    "# Print the mean and standard deviation for reference\n",
    "print(\"Mean:\", mean_X)\n",
    "print(\"Standard Deviation:\", std_X)\n",
    "\n",
    "# Normalize X using the formula Z = (X - mean)/ standard deviation\n",
    "X_normalized = (X - mean_X) / std_X\n",
    "\n",
    "# Print both the original and normalized array\n",
    "print(\"\\nOriginal Array:\\n\", X)\n",
    "print(\"\\nNormalized Array:\\n\", X_normalized)\n",
    "\n",
    "# Save the normalized array to a file\n",
    "np.save('X_normalized.npy', X_normalized)"
   ]
  },
  {
   "cell_type": "markdown",
   "id": "29bbc217-c96f-4c4d-b243-e58029b8be55",
   "metadata": {},
   "source": [
    "## 2. Divisible by 3 Problem"
   ]
  },
  {
   "cell_type": "markdown",
   "id": "f5b6ae06-9e2c-4bc6-85c8-bd39995276b2",
   "metadata": {},
   "source": [
    "##### This problem requires creating a 10x10 NumPy array where each element is the square of the first 100 positive integers. After constructing this array, the task is to identify all the elements that are divisible by 3. Once these elements are found, they need to be saved into a file named div_by_3.npy. The goal is to generate the squared values, apply a condition to filter out those divisible by 3, and store the result in a file for later use."
   ]
  },
  {
   "cell_type": "code",
   "execution_count": 65,
   "id": "c387090e-91d2-4cca-afd6-025ada49301c",
   "metadata": {},
   "outputs": [
    {
     "name": "stdout",
     "output_type": "stream",
     "text": [
      "10x10 Array:\n",
      " [[    1     4     9    16    25    36    49    64    81   100]\n",
      " [  121   144   169   196   225   256   289   324   361   400]\n",
      " [  441   484   529   576   625   676   729   784   841   900]\n",
      " [  961  1024  1089  1156  1225  1296  1369  1444  1521  1600]\n",
      " [ 1681  1764  1849  1936  2025  2116  2209  2304  2401  2500]\n",
      " [ 2601  2704  2809  2916  3025  3136  3249  3364  3481  3600]\n",
      " [ 3721  3844  3969  4096  4225  4356  4489  4624  4761  4900]\n",
      " [ 5041  5184  5329  5476  5625  5776  5929  6084  6241  6400]\n",
      " [ 6561  6724  6889  7056  7225  7396  7569  7744  7921  8100]\n",
      " [ 8281  8464  8649  8836  9025  9216  9409  9604  9801 10000]]\n",
      "\n",
      "Elements Divisible by 3:\n",
      " [   9   36   81  144  225  324  441  576  729  900 1089 1296 1521 1764\n",
      " 2025 2304 2601 2916 3249 3600 3969 4356 4761 5184 5625 6084 6561 7056\n",
      " 7569 8100 8649 9216 9801]\n"
     ]
    }
   ],
   "source": [
    "import numpy as np\n",
    "\n",
    "# Create an array with the first 100 positive integers\n",
    "int = np.arange(1, 101)\n",
    "\n",
    "# Square each each element to create a 10x10 array and reshape to 10x10 ndarray\n",
    "A = int ** 2\n",
    "A = A.reshape(10, 10) \n",
    "\n",
    "# Determine all elements divisible by 3\n",
    "div_by_3 = A[A % 3 == 0]\n",
    "\n",
    "# Print the array and all the elements divisible by 3\n",
    "print(\"10x10 Array:\\n\", A)\n",
    "print(\"\\nElements Divisible by 3:\\n\", div_by_3)\n",
    "\n",
    "# Save the result as div_by_3.npy\n",
    "np.save('div_by_3.npy', div_by_3)"
   ]
  }
 ],
 "metadata": {
  "kernelspec": {
   "display_name": "Python 3 (ipykernel)",
   "language": "python",
   "name": "python3"
  },
  "language_info": {
   "codemirror_mode": {
    "name": "ipython",
    "version": 3
   },
   "file_extension": ".py",
   "mimetype": "text/x-python",
   "name": "python",
   "nbconvert_exporter": "python",
   "pygments_lexer": "ipython3",
   "version": "3.12.4"
  }
 },
 "nbformat": 4,
 "nbformat_minor": 5
}
