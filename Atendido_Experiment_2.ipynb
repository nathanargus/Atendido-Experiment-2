{
 "cells": [
  {
   "cell_type": "markdown",
   "id": "6fd15ed7-42bb-4eee-9994-4c5e54d09fd7",
   "metadata": {},
   "source": [
    "## 1. Normalization Problem"
   ]
  },
  {
   "cell_type": "code",
   "execution_count": 22,
   "id": "707a4558-85f6-4565-ae78-d1dcf8e356ea",
   "metadata": {},
   "outputs": [
    {
     "name": "stdout",
     "output_type": "stream",
     "text": [
      "Original Array:\n",
      " [[0.01788081 0.0075502  0.53642402 0.98887735 0.93201881]\n",
      " [0.04576152 0.11913864 0.05390981 0.05567566 0.12082548]\n",
      " [0.6686522  0.58767294 0.16052042 0.28445319 0.00313501]\n",
      " [0.52798297 0.49895919 0.41616869 0.50602564 0.94085923]\n",
      " [0.83667781 0.54992898 0.74279367 0.44279465 0.19972011]]\n",
      "\n",
      "Normalized Array:\n",
      " [[-1.23801065 -1.27064539  0.40008438  1.82939928  1.64978131]\n",
      " [-1.14993458 -0.91813384 -1.12419386 -1.11861548 -0.91280506]\n",
      " [ 0.81779754  0.5619814  -0.78740746 -0.39589978 -1.28459312]\n",
      " [ 0.37341882  0.28173175  0.02019383  0.30405488  1.67770848]\n",
      " [ 1.34859594  0.44274699  1.05201286  0.1043061  -0.66357434]]\n"
     ]
    }
   ],
   "source": [
    "import numpy as np\n",
    "\n",
    "# Create a random 5x5 ndarray\n",
    "X = np.random.rand(5, 5)\n",
    "\n",
    "# Calculate the mean and standard deviation\n",
    "mean_X = X.mean()\n",
    "std_X = X.std()\n",
    "\n",
    "# Normalize X using the formula Z = (X - mean)/ standard deviation\n",
    "X_normalized = (X - mean_X) / std_X\n",
    "\n",
    "# Save the normalized array as X_normalized.npy\n",
    "np.save('X_normalized.npy', X_normalized)\n",
    "\n",
    "# Print both the original and normalized arrays\n",
    "print(\"Original Array:\\n\", X)\n",
    "print(\"\\nNormalized Array:\\n\", X_normalized)"
   ]
  },
  {
   "cell_type": "markdown",
   "id": "29bbc217-c96f-4c4d-b243-e58029b8be55",
   "metadata": {},
   "source": [
    "## 2. Divisible by 3 Problem"
   ]
  },
  {
   "cell_type": "code",
   "execution_count": 39,
   "id": "c387090e-91d2-4cca-afd6-025ada49301c",
   "metadata": {},
   "outputs": [
    {
     "name": "stdout",
     "output_type": "stream",
     "text": [
      "10x10 Array:\n",
      " [[    1     4     9    16    25    36    49    64    81   100]\n",
      " [  121   144   169   196   225   256   289   324   361   400]\n",
      " [  441   484   529   576   625   676   729   784   841   900]\n",
      " [  961  1024  1089  1156  1225  1296  1369  1444  1521  1600]\n",
      " [ 1681  1764  1849  1936  2025  2116  2209  2304  2401  2500]\n",
      " [ 2601  2704  2809  2916  3025  3136  3249  3364  3481  3600]\n",
      " [ 3721  3844  3969  4096  4225  4356  4489  4624  4761  4900]\n",
      " [ 5041  5184  5329  5476  5625  5776  5929  6084  6241  6400]\n",
      " [ 6561  6724  6889  7056  7225  7396  7569  7744  7921  8100]\n",
      " [ 8281  8464  8649  8836  9025  9216  9409  9604  9801 10000]]\n",
      "\n",
      "Elements Divisible by 3:\n",
      " [   9   36   81  144  225  324  441  576  729  900 1089 1296 1521 1764\n",
      " 2025 2304 2601 2916 3249 3600 3969 4356 4761 5184 5625 6084 6561 7056\n",
      " 7569 8100 8649 9216 9801]\n"
     ]
    }
   ],
   "source": [
    "import numpy as np\n",
    "\n",
    "# Create an array with the first 100 positive integers\n",
    "int = np.arange(1, 101)\n",
    "\n",
    "# Square each each element to create a 10x10 array and reshape to 10x10 ndarray\n",
    "A = int ** 2\n",
    "A = A.reshape(10, 10) \n",
    "\n",
    "# Determine all elements divisible by 3\n",
    "div_by_3 = A[A % 3 == 0]\n",
    "\n",
    "# Save the result as div_by_3.npy\n",
    "np.save('div_by_3.npy', div_by_3)\n",
    "\n",
    "# Print the array and all the elements divisible by 3\n",
    "print(\"10x10 Array:\\n\", A)\n",
    "print(\"\\nElements Divisible by 3:\\n\", div_by_3)"
   ]
  },
  {
   "cell_type": "code",
   "execution_count": null,
   "id": "959b0cf2-26ec-4570-bba6-c737d83a5f2c",
   "metadata": {},
   "outputs": [],
   "source": []
  }
 ],
 "metadata": {
  "kernelspec": {
   "display_name": "Python 3 (ipykernel)",
   "language": "python",
   "name": "python3"
  },
  "language_info": {
   "codemirror_mode": {
    "name": "ipython",
    "version": 3
   },
   "file_extension": ".py",
   "mimetype": "text/x-python",
   "name": "python",
   "nbconvert_exporter": "python",
   "pygments_lexer": "ipython3",
   "version": "3.12.4"
  }
 },
 "nbformat": 4,
 "nbformat_minor": 5
}
